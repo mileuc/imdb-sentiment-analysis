{
 "cells": [
  {
   "cell_type": "code",
   "execution_count": 1,
   "id": "f83593dd",
   "metadata": {},
   "outputs": [],
   "source": [
    "# Sentiment Analysis on IMDB movie reviews to figure out if a comment is positive or negative\n",
    "# Deep learning algorithm to predict the number of positive or negative\n",
    "# Training Accuracy should not be less than 87% \n",
    "# Difference between training and test accuracy should not exceed 2.5%\n",
    "# Can plot the learning curve check if model is overfitted (optional)\n",
    "\n",
    "# Dataset https://ai.stanford.edu/~amaas/data/sentiment/\n",
    "# Above provides a set of 25,000 highly popular movie reviews for training and 25,000 for testing"
   ]
  },
  {
   "cell_type": "code",
   "execution_count": 2,
   "id": "514ebc35",
   "metadata": {},
   "outputs": [],
   "source": [
    "# pip install tensorflow"
   ]
  },
  {
   "cell_type": "code",
   "execution_count": 3,
   "id": "b8e6a3c7",
   "metadata": {},
   "outputs": [],
   "source": [
    "import tensorflow as tf # Import Tensorflow\n",
    "import numpy as np # Import NumPy\n",
    "import pandas as pd # Import Pandas\n",
    "import matplotlib.pyplot as plt # Matplotlib Data Visualization Library\n",
    "import seaborn as sns # Seaborn Data Visualization Library\n",
    "import os  # OS module provides functions for interacting with the operating system\n",
    "\n",
    "from sklearn.model_selection import train_test_split # Import train_test_split\n",
    "from sklearn.preprocessing import LabelEncoder # Import LabelEncoder"
   ]
  },
  {
   "cell_type": "code",
   "execution_count": 4,
   "id": "02ed7691",
   "metadata": {},
   "outputs": [],
   "source": [
    "# Dictionary where each review and sentiment is stored\n",
    "data_dict = {'Review': [], 'Sentiment': []} "
   ]
  },
  {
   "cell_type": "code",
   "execution_count": 5,
   "id": "093dd3a0",
   "metadata": {},
   "outputs": [],
   "source": [
    "# Path of directory containing the positive reviews for the training set\n",
    "positive_train_dir = './aclImdb/train/pos/'\n",
    "# List of all the review txt filenames inside the directory\n",
    "positive_train_files = os.listdir(positive_train_dir)\n",
    "\n",
    "# For each txt file in the directory...\n",
    "for file in positive_train_files:\n",
    "    # Create a file object by combining the directory and current file name \n",
    "    file_object = open(positive_train_dir + file, \"r\", encoding=\"utf8\")\n",
    "    # Read the file object and store the contents of the file in a variable called review_text\n",
    "    review_text = file_object.read()\n",
    "    # Append the review_text to the array in the 'Review' key in data_dict\n",
    "    data_dict['Review'].append(review_text)\n",
    "    # Append a 'Positive' string to the array in the 'Sentiment' key in data_dict\n",
    "    data_dict['Sentiment'].append('Positive')\n",
    "    \n",
    "# Path of directory containing the negative reviews for the training set\n",
    "negative_train_dir = './aclImdb/train/neg/'\n",
    "# List of all the review txt filenames inside the directory\n",
    "negative_train_files = os.listdir(negative_train_dir)\n",
    "\n",
    "# For each txt file in the directory...\n",
    "for file in negative_train_files:\n",
    "    # Create a file object by combining the directory and current file name \n",
    "    file_object = open(negative_train_dir + file, \"r\", encoding=\"utf8\")\n",
    "    # Read the file object and store the contents of the file in a variable called review_text\n",
    "    review_text = file_object.read()\n",
    "    # Append the review_text to the array in the 'Review' key in data_dict\n",
    "    data_dict['Review'].append(review_text)\n",
    "    # Append a 'Negative' string to the array in the 'Sentiment' key in data_dict\n",
    "    data_dict['Sentiment'].append('Negative')"
   ]
  },
  {
   "cell_type": "code",
   "execution_count": 6,
   "id": "5de9ff1e",
   "metadata": {},
   "outputs": [],
   "source": [
    "# Path of directory containing the positive reviews for the testing set\n",
    "positive_test_dir = './aclImdb/test/pos/'\n",
    "# List of all the review txt filenames inside the directory\n",
    "positive_test_files = os.listdir(positive_test_dir)\n",
    "\n",
    "# For each txt file in the directory...\n",
    "for file in positive_test_files:\n",
    "    # Create a file object by combining the directory and current file name \n",
    "    file_object = open(positive_test_dir + file, \"r\", encoding=\"utf8\")\n",
    "    # Read the file object and store the contents of the file in a variable called review_text\n",
    "    review_text = file_object.read()\n",
    "    # Append the review_text to the array in the 'Review' key in data_dict\n",
    "    data_dict['Review'].append(review_text)\n",
    "    # Append a 'Positive' string to the array in the 'Sentiment' key in data_dict\n",
    "    data_dict['Sentiment'].append('Positive')\n",
    "    \n",
    "# Path of directory containing the negative reviews for the testing set\n",
    "negative_test_dir = './aclImdb/test/neg/'\n",
    "# List of all the review txt filenames inside the directory\n",
    "negative_test_files = os.listdir(negative_test_dir)\n",
    "\n",
    "for file in negative_test_files:\n",
    "    # Create a file object by combining the directory and current file name\n",
    "    file_object = open(negative_test_dir + file, \"r\", encoding=\"utf8\")\n",
    "    # Read the file object and store the contents of the file in a variable called review_text\n",
    "    review_text = file_object.read()\n",
    "    # Append the review_text to the array in the 'Review' key in data_dict\n",
    "    data_dict['Review'].append(review_text)\n",
    "    # Append a 'Negative' string to the array in the 'Sentiment' key in data_dict\n",
    "    data_dict['Sentiment'].append('Negative')"
   ]
  },
  {
   "cell_type": "code",
   "execution_count": 7,
   "id": "4ef780ba",
   "metadata": {},
   "outputs": [
    {
     "data": {
      "text/html": [
       "<div>\n",
       "<style scoped>\n",
       "    .dataframe tbody tr th:only-of-type {\n",
       "        vertical-align: middle;\n",
       "    }\n",
       "\n",
       "    .dataframe tbody tr th {\n",
       "        vertical-align: top;\n",
       "    }\n",
       "\n",
       "    .dataframe thead th {\n",
       "        text-align: right;\n",
       "    }\n",
       "</style>\n",
       "<table border=\"1\" class=\"dataframe\">\n",
       "  <thead>\n",
       "    <tr style=\"text-align: right;\">\n",
       "      <th></th>\n",
       "      <th>Review</th>\n",
       "      <th>Sentiment</th>\n",
       "    </tr>\n",
       "  </thead>\n",
       "  <tbody>\n",
       "    <tr>\n",
       "      <th>0</th>\n",
       "      <td>Bromwell High is a cartoon comedy. It ran at t...</td>\n",
       "      <td>Positive</td>\n",
       "    </tr>\n",
       "    <tr>\n",
       "      <th>1</th>\n",
       "      <td>Homelessness (or Houselessness as George Carli...</td>\n",
       "      <td>Positive</td>\n",
       "    </tr>\n",
       "    <tr>\n",
       "      <th>2</th>\n",
       "      <td>Brilliant over-acting by Lesley Ann Warren. Be...</td>\n",
       "      <td>Positive</td>\n",
       "    </tr>\n",
       "    <tr>\n",
       "      <th>3</th>\n",
       "      <td>This is easily the most underrated film inn th...</td>\n",
       "      <td>Positive</td>\n",
       "    </tr>\n",
       "    <tr>\n",
       "      <th>4</th>\n",
       "      <td>This is not the typical Mel Brooks film. It wa...</td>\n",
       "      <td>Positive</td>\n",
       "    </tr>\n",
       "    <tr>\n",
       "      <th>...</th>\n",
       "      <td>...</td>\n",
       "      <td>...</td>\n",
       "    </tr>\n",
       "    <tr>\n",
       "      <th>49995</th>\n",
       "      <td>I occasionally let my kids watch this garbage ...</td>\n",
       "      <td>Negative</td>\n",
       "    </tr>\n",
       "    <tr>\n",
       "      <th>49996</th>\n",
       "      <td>When all we have anymore is pretty much realit...</td>\n",
       "      <td>Negative</td>\n",
       "    </tr>\n",
       "    <tr>\n",
       "      <th>49997</th>\n",
       "      <td>The basic genre is a thriller intercut with an...</td>\n",
       "      <td>Negative</td>\n",
       "    </tr>\n",
       "    <tr>\n",
       "      <th>49998</th>\n",
       "      <td>Four things intrigued me as to this film - fir...</td>\n",
       "      <td>Negative</td>\n",
       "    </tr>\n",
       "    <tr>\n",
       "      <th>49999</th>\n",
       "      <td>David Bryce's comments nearby are exceptionall...</td>\n",
       "      <td>Negative</td>\n",
       "    </tr>\n",
       "  </tbody>\n",
       "</table>\n",
       "<p>50000 rows × 2 columns</p>\n",
       "</div>"
      ],
      "text/plain": [
       "                                                  Review Sentiment\n",
       "0      Bromwell High is a cartoon comedy. It ran at t...  Positive\n",
       "1      Homelessness (or Houselessness as George Carli...  Positive\n",
       "2      Brilliant over-acting by Lesley Ann Warren. Be...  Positive\n",
       "3      This is easily the most underrated film inn th...  Positive\n",
       "4      This is not the typical Mel Brooks film. It wa...  Positive\n",
       "...                                                  ...       ...\n",
       "49995  I occasionally let my kids watch this garbage ...  Negative\n",
       "49996  When all we have anymore is pretty much realit...  Negative\n",
       "49997  The basic genre is a thriller intercut with an...  Negative\n",
       "49998  Four things intrigued me as to this film - fir...  Negative\n",
       "49999  David Bryce's comments nearby are exceptionall...  Negative\n",
       "\n",
       "[50000 rows x 2 columns]"
      ]
     },
     "execution_count": 7,
     "metadata": {},
     "output_type": "execute_result"
    }
   ],
   "source": [
    "# Convert data_dict to Dataframe\n",
    "df = pd.DataFrame(data_dict)\n",
    "df"
   ]
  },
  {
   "cell_type": "code",
   "execution_count": 8,
   "id": "f6c05007",
   "metadata": {},
   "outputs": [
    {
     "data": {
      "text/html": [
       "<div>\n",
       "<style scoped>\n",
       "    .dataframe tbody tr th:only-of-type {\n",
       "        vertical-align: middle;\n",
       "    }\n",
       "\n",
       "    .dataframe tbody tr th {\n",
       "        vertical-align: top;\n",
       "    }\n",
       "\n",
       "    .dataframe thead th {\n",
       "        text-align: right;\n",
       "    }\n",
       "</style>\n",
       "<table border=\"1\" class=\"dataframe\">\n",
       "  <thead>\n",
       "    <tr style=\"text-align: right;\">\n",
       "      <th></th>\n",
       "      <th>Review</th>\n",
       "      <th>Sentiment</th>\n",
       "    </tr>\n",
       "  </thead>\n",
       "  <tbody>\n",
       "    <tr>\n",
       "      <th>count</th>\n",
       "      <td>50000</td>\n",
       "      <td>50000</td>\n",
       "    </tr>\n",
       "    <tr>\n",
       "      <th>unique</th>\n",
       "      <td>49582</td>\n",
       "      <td>2</td>\n",
       "    </tr>\n",
       "    <tr>\n",
       "      <th>top</th>\n",
       "      <td>Loved today's show!!! It was a variety and not...</td>\n",
       "      <td>Positive</td>\n",
       "    </tr>\n",
       "    <tr>\n",
       "      <th>freq</th>\n",
       "      <td>5</td>\n",
       "      <td>25000</td>\n",
       "    </tr>\n",
       "  </tbody>\n",
       "</table>\n",
       "</div>"
      ],
      "text/plain": [
       "                                                   Review Sentiment\n",
       "count                                               50000     50000\n",
       "unique                                              49582         2\n",
       "top     Loved today's show!!! It was a variety and not...  Positive\n",
       "freq                                                    5     25000"
      ]
     },
     "execution_count": 8,
     "metadata": {},
     "output_type": "execute_result"
    }
   ],
   "source": [
    "# Summary of the DataFrame\n",
    "df.describe()"
   ]
  },
  {
   "cell_type": "code",
   "execution_count": 9,
   "id": "c08e7444",
   "metadata": {},
   "outputs": [
    {
     "data": {
      "text/plain": [
       "Positive    25000\n",
       "Negative    25000\n",
       "Name: Sentiment, dtype: int64"
      ]
     },
     "execution_count": 9,
     "metadata": {},
     "output_type": "execute_result"
    }
   ],
   "source": [
    "# Show number of each sentiment in the DataFrame\n",
    "df['Sentiment'].value_counts()"
   ]
  },
  {
   "cell_type": "code",
   "execution_count": 10,
   "id": "b389e762",
   "metadata": {},
   "outputs": [
    {
     "data": {
      "text/plain": [
       "Review       0\n",
       "Sentiment    0\n",
       "dtype: int64"
      ]
     },
     "execution_count": 10,
     "metadata": {},
     "output_type": "execute_result"
    }
   ],
   "source": [
    "df.isnull().sum()"
   ]
  },
  {
   "cell_type": "code",
   "execution_count": 11,
   "id": "3a889b37",
   "metadata": {},
   "outputs": [
    {
     "data": {
      "text/plain": [
       "(50000, 2)"
      ]
     },
     "execution_count": 11,
     "metadata": {},
     "output_type": "execute_result"
    }
   ],
   "source": [
    "df.shape"
   ]
  },
  {
   "cell_type": "code",
   "execution_count": 12,
   "id": "2dc33661",
   "metadata": {},
   "outputs": [],
   "source": [
    "# Use Regex to get rid of all special characters\n",
    "import re # Import Regex\n",
    "\n",
    "# Replace the leftmost non-overlapping occurrences of '[^A-Za-z0-9]+' in 'Review' column with ' '\n",
    "df['Review'] = [re.sub('[^A-Za-z0-9]+', ' ', word) for word in df['Review']]"
   ]
  },
  {
   "cell_type": "code",
   "execution_count": 13,
   "id": "cda650cd",
   "metadata": {},
   "outputs": [
    {
     "name": "stderr",
     "output_type": "stream",
     "text": [
      "[nltk_data] Downloading package wordnet to\n",
      "[nltk_data]     C:\\Users\\milec\\AppData\\Roaming\\nltk_data...\n",
      "[nltk_data]   Package wordnet is already up-to-date!\n",
      "[nltk_data] Downloading package omw-1.4 to\n",
      "[nltk_data]     C:\\Users\\milec\\AppData\\Roaming\\nltk_data...\n",
      "[nltk_data]   Package omw-1.4 is already up-to-date!\n"
     ]
    }
   ],
   "source": [
    "# Use Lemmatizer to group together the inflected forms of a word so they can be analysed as a single item\n",
    "# For example, the words 'walk', 'walked', 'walks' or 'walking' will be all converted to the base form (the Lemma)'walk'\n",
    "\n",
    "import nltk\n",
    "nltk.download('wordnet')\n",
    "nltk.download('omw-1.4')\n",
    "from nltk.stem.wordnet import WordNetLemmatizer\n",
    "\n",
    "lemmatizer = WordNetLemmatizer()\n",
    "# Replace each word in 'Review' with the lemmatized version\n",
    "df['Review'] = [lemmatizer.lemmatize(word) for word in df['Review']]"
   ]
  },
  {
   "cell_type": "code",
   "execution_count": 14,
   "id": "30f4cf2a",
   "metadata": {},
   "outputs": [
    {
     "data": {
      "text/html": [
       "<div>\n",
       "<style scoped>\n",
       "    .dataframe tbody tr th:only-of-type {\n",
       "        vertical-align: middle;\n",
       "    }\n",
       "\n",
       "    .dataframe tbody tr th {\n",
       "        vertical-align: top;\n",
       "    }\n",
       "\n",
       "    .dataframe thead th {\n",
       "        text-align: right;\n",
       "    }\n",
       "</style>\n",
       "<table border=\"1\" class=\"dataframe\">\n",
       "  <thead>\n",
       "    <tr style=\"text-align: right;\">\n",
       "      <th></th>\n",
       "      <th>Review</th>\n",
       "      <th>Sentiment</th>\n",
       "    </tr>\n",
       "  </thead>\n",
       "  <tbody>\n",
       "    <tr>\n",
       "      <th>0</th>\n",
       "      <td>bromwell high is a cartoon comedy it ran at th...</td>\n",
       "      <td>Positive</td>\n",
       "    </tr>\n",
       "    <tr>\n",
       "      <th>1</th>\n",
       "      <td>homelessness or houselessness as george carlin...</td>\n",
       "      <td>Positive</td>\n",
       "    </tr>\n",
       "    <tr>\n",
       "      <th>2</th>\n",
       "      <td>brilliant over acting by lesley ann warren bes...</td>\n",
       "      <td>Positive</td>\n",
       "    </tr>\n",
       "    <tr>\n",
       "      <th>3</th>\n",
       "      <td>this is easily the most underrated film inn th...</td>\n",
       "      <td>Positive</td>\n",
       "    </tr>\n",
       "    <tr>\n",
       "      <th>4</th>\n",
       "      <td>this is not the typical mel brooks film it was...</td>\n",
       "      <td>Positive</td>\n",
       "    </tr>\n",
       "    <tr>\n",
       "      <th>...</th>\n",
       "      <td>...</td>\n",
       "      <td>...</td>\n",
       "    </tr>\n",
       "    <tr>\n",
       "      <th>49995</th>\n",
       "      <td>i occasionally let my kids watch this garbage ...</td>\n",
       "      <td>Negative</td>\n",
       "    </tr>\n",
       "    <tr>\n",
       "      <th>49996</th>\n",
       "      <td>when all we have anymore is pretty much realit...</td>\n",
       "      <td>Negative</td>\n",
       "    </tr>\n",
       "    <tr>\n",
       "      <th>49997</th>\n",
       "      <td>the basic genre is a thriller intercut with an...</td>\n",
       "      <td>Negative</td>\n",
       "    </tr>\n",
       "    <tr>\n",
       "      <th>49998</th>\n",
       "      <td>four things intrigued me as to this film first...</td>\n",
       "      <td>Negative</td>\n",
       "    </tr>\n",
       "    <tr>\n",
       "      <th>49999</th>\n",
       "      <td>david bryce s comments nearby are exceptionall...</td>\n",
       "      <td>Negative</td>\n",
       "    </tr>\n",
       "  </tbody>\n",
       "</table>\n",
       "<p>50000 rows × 2 columns</p>\n",
       "</div>"
      ],
      "text/plain": [
       "                                                  Review Sentiment\n",
       "0      bromwell high is a cartoon comedy it ran at th...  Positive\n",
       "1      homelessness or houselessness as george carlin...  Positive\n",
       "2      brilliant over acting by lesley ann warren bes...  Positive\n",
       "3      this is easily the most underrated film inn th...  Positive\n",
       "4      this is not the typical mel brooks film it was...  Positive\n",
       "...                                                  ...       ...\n",
       "49995  i occasionally let my kids watch this garbage ...  Negative\n",
       "49996  when all we have anymore is pretty much realit...  Negative\n",
       "49997  the basic genre is a thriller intercut with an...  Negative\n",
       "49998  four things intrigued me as to this film first...  Negative\n",
       "49999  david bryce s comments nearby are exceptionall...  Negative\n",
       "\n",
       "[50000 rows x 2 columns]"
      ]
     },
     "execution_count": 14,
     "metadata": {},
     "output_type": "execute_result"
    }
   ],
   "source": [
    "# Convert all letters in 'Review' to lower case\n",
    "df['Review'] = [word.lower() for word in df['Review']]\n",
    "df"
   ]
  },
  {
   "cell_type": "code",
   "execution_count": 15,
   "id": "92e25162",
   "metadata": {},
   "outputs": [
    {
     "data": {
      "text/html": [
       "<div>\n",
       "<style scoped>\n",
       "    .dataframe tbody tr th:only-of-type {\n",
       "        vertical-align: middle;\n",
       "    }\n",
       "\n",
       "    .dataframe tbody tr th {\n",
       "        vertical-align: top;\n",
       "    }\n",
       "\n",
       "    .dataframe thead th {\n",
       "        text-align: right;\n",
       "    }\n",
       "</style>\n",
       "<table border=\"1\" class=\"dataframe\">\n",
       "  <thead>\n",
       "    <tr style=\"text-align: right;\">\n",
       "      <th></th>\n",
       "      <th>00</th>\n",
       "      <th>000</th>\n",
       "      <th>10</th>\n",
       "      <th>100</th>\n",
       "      <th>1000</th>\n",
       "      <th>101</th>\n",
       "      <th>11</th>\n",
       "      <th>12</th>\n",
       "      <th>13</th>\n",
       "      <th>13th</th>\n",
       "      <th>...</th>\n",
       "      <th>yup</th>\n",
       "      <th>zane</th>\n",
       "      <th>zany</th>\n",
       "      <th>zealand</th>\n",
       "      <th>zero</th>\n",
       "      <th>zeta</th>\n",
       "      <th>zombie</th>\n",
       "      <th>zombies</th>\n",
       "      <th>zone</th>\n",
       "      <th>zoom</th>\n",
       "    </tr>\n",
       "  </thead>\n",
       "  <tbody>\n",
       "    <tr>\n",
       "      <th>0</th>\n",
       "      <td>0</td>\n",
       "      <td>0</td>\n",
       "      <td>0</td>\n",
       "      <td>0</td>\n",
       "      <td>0</td>\n",
       "      <td>0</td>\n",
       "      <td>0</td>\n",
       "      <td>0</td>\n",
       "      <td>0</td>\n",
       "      <td>0</td>\n",
       "      <td>...</td>\n",
       "      <td>0</td>\n",
       "      <td>0</td>\n",
       "      <td>0</td>\n",
       "      <td>0</td>\n",
       "      <td>0</td>\n",
       "      <td>0</td>\n",
       "      <td>0</td>\n",
       "      <td>0</td>\n",
       "      <td>0</td>\n",
       "      <td>0</td>\n",
       "    </tr>\n",
       "    <tr>\n",
       "      <th>1</th>\n",
       "      <td>0</td>\n",
       "      <td>0</td>\n",
       "      <td>0</td>\n",
       "      <td>0</td>\n",
       "      <td>0</td>\n",
       "      <td>0</td>\n",
       "      <td>0</td>\n",
       "      <td>0</td>\n",
       "      <td>0</td>\n",
       "      <td>0</td>\n",
       "      <td>...</td>\n",
       "      <td>0</td>\n",
       "      <td>0</td>\n",
       "      <td>0</td>\n",
       "      <td>0</td>\n",
       "      <td>0</td>\n",
       "      <td>0</td>\n",
       "      <td>0</td>\n",
       "      <td>0</td>\n",
       "      <td>0</td>\n",
       "      <td>0</td>\n",
       "    </tr>\n",
       "    <tr>\n",
       "      <th>2</th>\n",
       "      <td>0</td>\n",
       "      <td>0</td>\n",
       "      <td>0</td>\n",
       "      <td>0</td>\n",
       "      <td>0</td>\n",
       "      <td>0</td>\n",
       "      <td>0</td>\n",
       "      <td>0</td>\n",
       "      <td>0</td>\n",
       "      <td>0</td>\n",
       "      <td>...</td>\n",
       "      <td>0</td>\n",
       "      <td>0</td>\n",
       "      <td>0</td>\n",
       "      <td>0</td>\n",
       "      <td>0</td>\n",
       "      <td>0</td>\n",
       "      <td>0</td>\n",
       "      <td>0</td>\n",
       "      <td>0</td>\n",
       "      <td>0</td>\n",
       "    </tr>\n",
       "    <tr>\n",
       "      <th>3</th>\n",
       "      <td>0</td>\n",
       "      <td>0</td>\n",
       "      <td>0</td>\n",
       "      <td>0</td>\n",
       "      <td>0</td>\n",
       "      <td>0</td>\n",
       "      <td>0</td>\n",
       "      <td>0</td>\n",
       "      <td>0</td>\n",
       "      <td>0</td>\n",
       "      <td>...</td>\n",
       "      <td>0</td>\n",
       "      <td>0</td>\n",
       "      <td>0</td>\n",
       "      <td>0</td>\n",
       "      <td>0</td>\n",
       "      <td>0</td>\n",
       "      <td>0</td>\n",
       "      <td>0</td>\n",
       "      <td>0</td>\n",
       "      <td>0</td>\n",
       "    </tr>\n",
       "    <tr>\n",
       "      <th>4</th>\n",
       "      <td>0</td>\n",
       "      <td>0</td>\n",
       "      <td>0</td>\n",
       "      <td>0</td>\n",
       "      <td>0</td>\n",
       "      <td>0</td>\n",
       "      <td>0</td>\n",
       "      <td>0</td>\n",
       "      <td>0</td>\n",
       "      <td>0</td>\n",
       "      <td>...</td>\n",
       "      <td>0</td>\n",
       "      <td>0</td>\n",
       "      <td>0</td>\n",
       "      <td>0</td>\n",
       "      <td>0</td>\n",
       "      <td>0</td>\n",
       "      <td>0</td>\n",
       "      <td>0</td>\n",
       "      <td>0</td>\n",
       "      <td>0</td>\n",
       "    </tr>\n",
       "    <tr>\n",
       "      <th>...</th>\n",
       "      <td>...</td>\n",
       "      <td>...</td>\n",
       "      <td>...</td>\n",
       "      <td>...</td>\n",
       "      <td>...</td>\n",
       "      <td>...</td>\n",
       "      <td>...</td>\n",
       "      <td>...</td>\n",
       "      <td>...</td>\n",
       "      <td>...</td>\n",
       "      <td>...</td>\n",
       "      <td>...</td>\n",
       "      <td>...</td>\n",
       "      <td>...</td>\n",
       "      <td>...</td>\n",
       "      <td>...</td>\n",
       "      <td>...</td>\n",
       "      <td>...</td>\n",
       "      <td>...</td>\n",
       "      <td>...</td>\n",
       "      <td>...</td>\n",
       "    </tr>\n",
       "    <tr>\n",
       "      <th>49995</th>\n",
       "      <td>0</td>\n",
       "      <td>0</td>\n",
       "      <td>0</td>\n",
       "      <td>0</td>\n",
       "      <td>0</td>\n",
       "      <td>0</td>\n",
       "      <td>0</td>\n",
       "      <td>0</td>\n",
       "      <td>0</td>\n",
       "      <td>0</td>\n",
       "      <td>...</td>\n",
       "      <td>0</td>\n",
       "      <td>0</td>\n",
       "      <td>0</td>\n",
       "      <td>0</td>\n",
       "      <td>0</td>\n",
       "      <td>0</td>\n",
       "      <td>0</td>\n",
       "      <td>0</td>\n",
       "      <td>0</td>\n",
       "      <td>0</td>\n",
       "    </tr>\n",
       "    <tr>\n",
       "      <th>49996</th>\n",
       "      <td>0</td>\n",
       "      <td>0</td>\n",
       "      <td>0</td>\n",
       "      <td>0</td>\n",
       "      <td>0</td>\n",
       "      <td>0</td>\n",
       "      <td>0</td>\n",
       "      <td>0</td>\n",
       "      <td>0</td>\n",
       "      <td>0</td>\n",
       "      <td>...</td>\n",
       "      <td>0</td>\n",
       "      <td>0</td>\n",
       "      <td>0</td>\n",
       "      <td>0</td>\n",
       "      <td>0</td>\n",
       "      <td>0</td>\n",
       "      <td>0</td>\n",
       "      <td>0</td>\n",
       "      <td>0</td>\n",
       "      <td>0</td>\n",
       "    </tr>\n",
       "    <tr>\n",
       "      <th>49997</th>\n",
       "      <td>0</td>\n",
       "      <td>0</td>\n",
       "      <td>1</td>\n",
       "      <td>0</td>\n",
       "      <td>0</td>\n",
       "      <td>0</td>\n",
       "      <td>0</td>\n",
       "      <td>0</td>\n",
       "      <td>0</td>\n",
       "      <td>0</td>\n",
       "      <td>...</td>\n",
       "      <td>0</td>\n",
       "      <td>0</td>\n",
       "      <td>0</td>\n",
       "      <td>0</td>\n",
       "      <td>0</td>\n",
       "      <td>0</td>\n",
       "      <td>0</td>\n",
       "      <td>0</td>\n",
       "      <td>0</td>\n",
       "      <td>0</td>\n",
       "    </tr>\n",
       "    <tr>\n",
       "      <th>49998</th>\n",
       "      <td>0</td>\n",
       "      <td>0</td>\n",
       "      <td>0</td>\n",
       "      <td>0</td>\n",
       "      <td>0</td>\n",
       "      <td>0</td>\n",
       "      <td>0</td>\n",
       "      <td>0</td>\n",
       "      <td>0</td>\n",
       "      <td>0</td>\n",
       "      <td>...</td>\n",
       "      <td>0</td>\n",
       "      <td>0</td>\n",
       "      <td>0</td>\n",
       "      <td>2</td>\n",
       "      <td>0</td>\n",
       "      <td>0</td>\n",
       "      <td>0</td>\n",
       "      <td>0</td>\n",
       "      <td>0</td>\n",
       "      <td>0</td>\n",
       "    </tr>\n",
       "    <tr>\n",
       "      <th>49999</th>\n",
       "      <td>0</td>\n",
       "      <td>0</td>\n",
       "      <td>0</td>\n",
       "      <td>0</td>\n",
       "      <td>0</td>\n",
       "      <td>0</td>\n",
       "      <td>0</td>\n",
       "      <td>1</td>\n",
       "      <td>0</td>\n",
       "      <td>0</td>\n",
       "      <td>...</td>\n",
       "      <td>0</td>\n",
       "      <td>0</td>\n",
       "      <td>0</td>\n",
       "      <td>0</td>\n",
       "      <td>0</td>\n",
       "      <td>0</td>\n",
       "      <td>0</td>\n",
       "      <td>0</td>\n",
       "      <td>0</td>\n",
       "      <td>0</td>\n",
       "    </tr>\n",
       "  </tbody>\n",
       "</table>\n",
       "<p>50000 rows × 9889 columns</p>\n",
       "</div>"
      ],
      "text/plain": [
       "       00  000  10  100  1000  101  11  12  13  13th  ...  yup  zane  zany  \\\n",
       "0       0    0   0    0     0    0   0   0   0     0  ...    0     0     0   \n",
       "1       0    0   0    0     0    0   0   0   0     0  ...    0     0     0   \n",
       "2       0    0   0    0     0    0   0   0   0     0  ...    0     0     0   \n",
       "3       0    0   0    0     0    0   0   0   0     0  ...    0     0     0   \n",
       "4       0    0   0    0     0    0   0   0   0     0  ...    0     0     0   \n",
       "...    ..  ...  ..  ...   ...  ...  ..  ..  ..   ...  ...  ...   ...   ...   \n",
       "49995   0    0   0    0     0    0   0   0   0     0  ...    0     0     0   \n",
       "49996   0    0   0    0     0    0   0   0   0     0  ...    0     0     0   \n",
       "49997   0    0   1    0     0    0   0   0   0     0  ...    0     0     0   \n",
       "49998   0    0   0    0     0    0   0   0   0     0  ...    0     0     0   \n",
       "49999   0    0   0    0     0    0   0   1   0     0  ...    0     0     0   \n",
       "\n",
       "       zealand  zero  zeta  zombie  zombies  zone  zoom  \n",
       "0            0     0     0       0        0     0     0  \n",
       "1            0     0     0       0        0     0     0  \n",
       "2            0     0     0       0        0     0     0  \n",
       "3            0     0     0       0        0     0     0  \n",
       "4            0     0     0       0        0     0     0  \n",
       "...        ...   ...   ...     ...      ...   ...   ...  \n",
       "49995        0     0     0       0        0     0     0  \n",
       "49996        0     0     0       0        0     0     0  \n",
       "49997        0     0     0       0        0     0     0  \n",
       "49998        2     0     0       0        0     0     0  \n",
       "49999        0     0     0       0        0     0     0  \n",
       "\n",
       "[50000 rows x 9889 columns]"
      ]
     },
     "execution_count": 15,
     "metadata": {},
     "output_type": "execute_result"
    }
   ],
   "source": [
    "from sklearn.feature_extraction.text import CountVectorizer # Import CountVectorizer\n",
    "# Instantiate CountVectorizer that will ignore terms that appear in less than 0.102% of the Reviews and\n",
    "# more than 70% of the Reviews\n",
    "vec = CountVectorizer(min_df=0.00102,max_df=0.7)\n",
    "# Use CountVectorizer to crease a sparse matrix X that records number of times each word appears\n",
    "X = vec.fit_transform(df['Review'])\n",
    "\n",
    "# Convert sparse matrix X to a dense representation using toarray(), then convert it to a dataFrame and use \n",
    "# get_feature_names_out to get output feature names to be used as column names. \n",
    "# Use astype(np.uint8) to make X use less memory than it would be with int32 type\n",
    "X_count_vectorized = pd.DataFrame(X.astype(np.uint8).toarray(), columns=vec.get_feature_names_out())\n",
    "# Display vectorized feature matrix X_count_vectorized\n",
    "X_count_vectorized"
   ]
  },
  {
   "cell_type": "code",
   "execution_count": 16,
   "id": "248b2dcd",
   "metadata": {},
   "outputs": [],
   "source": [
    "# Separate X_count_vectorized back into the first 25000 rows of training data and the latter 25000 of testing data\n",
    "X_train_count_vectorized = X_count_vectorized[0:25000]\n",
    "X_test_count_vectorized = X_count_vectorized[25000:]"
   ]
  },
  {
   "cell_type": "code",
   "execution_count": 17,
   "id": "f7ed5a1a",
   "metadata": {},
   "outputs": [
    {
     "data": {
      "text/plain": [
       "(25000, 9889)"
      ]
     },
     "execution_count": 17,
     "metadata": {},
     "output_type": "execute_result"
    }
   ],
   "source": [
    "# Check shape of X_train_count_vectorized\n",
    "X_train_count_vectorized.shape "
   ]
  },
  {
   "cell_type": "code",
   "execution_count": 18,
   "id": "983782e5",
   "metadata": {},
   "outputs": [
    {
     "data": {
      "text/plain": [
       "(25000, 9889)"
      ]
     },
     "execution_count": 18,
     "metadata": {},
     "output_type": "execute_result"
    }
   ],
   "source": [
    "# Check shape of X_test_count_vectorized\n",
    "X_test_count_vectorized.shape"
   ]
  },
  {
   "cell_type": "code",
   "execution_count": 19,
   "id": "e81b7cd7",
   "metadata": {},
   "outputs": [],
   "source": [
    "# Separate 'Sentiment' column back into the first 25000 rows of training data and the latter 25000 of testing data\n",
    "y_train = df['Sentiment'][0:25000]\n",
    "y_test = df['Sentiment'][25000:50000]"
   ]
  },
  {
   "cell_type": "code",
   "execution_count": 20,
   "id": "dfb33ac9",
   "metadata": {},
   "outputs": [
    {
     "name": "stdout",
     "output_type": "stream",
     "text": [
      "Shape of y_train_enc: (25000,)\n"
     ]
    }
   ],
   "source": [
    "label_encoder = LabelEncoder() # Instantiate LabelEncoder object\n",
    "label_encoder.fit(y_train) # Fit encoder to y_train\n",
    "y_train_enc = label_encoder.transform(y_train) # Transform y_train using Scaler to create y_train_enc\n",
    "\n",
    "print(f\"Shape of y_train_enc: {y_train_enc.shape}\") # Check dimensions of y_train_enc"
   ]
  },
  {
   "cell_type": "code",
   "execution_count": 21,
   "id": "ce86cca5",
   "metadata": {},
   "outputs": [
    {
     "name": "stdout",
     "output_type": "stream",
     "text": [
      "Shape of y_test_enc: (25000,)\n"
     ]
    }
   ],
   "source": [
    "label_encoder = LabelEncoder() # Instantiate LabelEncoder object\n",
    "label_encoder.fit(y_test) # Fit encoder to y_test\n",
    "y_test_enc = label_encoder.transform(y_test) # Transform y_test using Scaler to create y_test_enc\n",
    "\n",
    "print(f\"Shape of y_test_enc: {y_test_enc.shape}\") # Check dimensions of y_test_enc"
   ]
  },
  {
   "cell_type": "code",
   "execution_count": 22,
   "id": "0075e490",
   "metadata": {},
   "outputs": [],
   "source": [
    "# Create Neural Network Model with 5 layers, with L1 regularization of 0.001 and L2 regularization factor of 0.025 \n",
    "# in the first layer\n",
    "model = tf.keras.Sequential ([\n",
    "    tf.keras.layers.Dense (256, activation = 'relu', \n",
    "                           input_shape = (X_train_count_vectorized.shape[1], ), \n",
    "                           kernel_regularizer=tf.keras.regularizers.L1L2(l1=0.001, l2=0.025)),\n",
    "    tf.keras.layers.Dense (128, activation = 'relu'),\n",
    "    tf.keras.layers.Dense (64, activation = 'relu'),\n",
    "    tf.keras.layers.Dense (32, activation = 'relu'),\n",
    "    tf.keras.layers.Dense (2, activation = 'softmax')\n",
    "])"
   ]
  },
  {
   "cell_type": "code",
   "execution_count": 23,
   "id": "595bad18",
   "metadata": {},
   "outputs": [],
   "source": [
    "# Adam optimization: a gradient descent method that is \"computationally efficient, has little memory requirement, \n",
    "# invariant to diagonal rescaling of gradients, and is well suited for problems that are large in terms of data/parameters\"\n",
    "\n",
    "# Use this SparseCategoricalCrossentropy crossentropy loss function when there are two or more label classes. \n",
    "\n",
    "# Accuracy metric: calculates how often predictions equal labels.\n",
    "model.compile(tf.keras.optimizers.Adam(learning_rate=0.001), \n",
    "              loss=tf.keras.losses.SparseCategoricalCrossentropy(), \n",
    "              metrics=['accuracy'])"
   ]
  },
  {
   "cell_type": "code",
   "execution_count": 24,
   "id": "3d07c224",
   "metadata": {},
   "outputs": [
    {
     "name": "stdout",
     "output_type": "stream",
     "text": [
      "Model: \"sequential\"\n",
      "_________________________________________________________________\n",
      " Layer (type)                Output Shape              Param #   \n",
      "=================================================================\n",
      " dense (Dense)               (None, 256)               2531840   \n",
      "                                                                 \n",
      " dense_1 (Dense)             (None, 128)               32896     \n",
      "                                                                 \n",
      " dense_2 (Dense)             (None, 64)                8256      \n",
      "                                                                 \n",
      " dense_3 (Dense)             (None, 32)                2080      \n",
      "                                                                 \n",
      " dense_4 (Dense)             (None, 2)                 66        \n",
      "                                                                 \n",
      "=================================================================\n",
      "Total params: 2,575,138\n",
      "Trainable params: 2,575,138\n",
      "Non-trainable params: 0\n",
      "_________________________________________________________________\n"
     ]
    }
   ],
   "source": [
    "model.summary() # Print model summary"
   ]
  },
  {
   "cell_type": "code",
   "execution_count": 25,
   "id": "0f4f2ddd",
   "metadata": {},
   "outputs": [
    {
     "name": "stdout",
     "output_type": "stream",
     "text": [
      "Epoch 1/15\n",
      "782/782 [==============================] - 41s 51ms/step - loss: 1.6772 - accuracy: 0.8254 - val_loss: 0.9551 - val_accuracy: 0.8590\n",
      "Epoch 2/15\n",
      "782/782 [==============================] - 40s 52ms/step - loss: 0.9080 - accuracy: 0.8665 - val_loss: 0.8700 - val_accuracy: 0.8663\n",
      "Epoch 3/15\n",
      "782/782 [==============================] - 41s 52ms/step - loss: 0.8509 - accuracy: 0.8710 - val_loss: 0.8428 - val_accuracy: 0.8572\n",
      "Epoch 4/15\n",
      "782/782 [==============================] - 43s 55ms/step - loss: 0.8171 - accuracy: 0.8709 - val_loss: 0.8233 - val_accuracy: 0.8645\n",
      "Epoch 5/15\n",
      "782/782 [==============================] - 40s 51ms/step - loss: 0.8065 - accuracy: 0.8714 - val_loss: 0.8380 - val_accuracy: 0.8350\n",
      "Epoch 6/15\n",
      "782/782 [==============================] - 41s 53ms/step - loss: 0.7920 - accuracy: 0.8762 - val_loss: 0.7924 - val_accuracy: 0.8640\n",
      "Epoch 7/15\n",
      "782/782 [==============================] - 41s 53ms/step - loss: 0.7803 - accuracy: 0.8734 - val_loss: 0.7856 - val_accuracy: 0.8689\n",
      "Epoch 8/15\n",
      "782/782 [==============================] - 44s 56ms/step - loss: 0.7752 - accuracy: 0.8764 - val_loss: 0.7789 - val_accuracy: 0.8710\n",
      "Epoch 9/15\n",
      "782/782 [==============================] - 41s 52ms/step - loss: 0.7688 - accuracy: 0.8804 - val_loss: 0.7825 - val_accuracy: 0.8701\n",
      "Epoch 10/15\n",
      "782/782 [==============================] - 41s 53ms/step - loss: 0.7602 - accuracy: 0.8803 - val_loss: 0.7873 - val_accuracy: 0.8638\n",
      "Epoch 11/15\n",
      "782/782 [==============================] - 42s 54ms/step - loss: 0.7544 - accuracy: 0.8827 - val_loss: 0.7717 - val_accuracy: 0.8662\n",
      "Epoch 12/15\n",
      "782/782 [==============================] - 50s 64ms/step - loss: 0.7552 - accuracy: 0.8799 - val_loss: 0.7735 - val_accuracy: 0.8629\n",
      "Epoch 13/15\n",
      "782/782 [==============================] - 62s 79ms/step - loss: 0.7582 - accuracy: 0.8828 - val_loss: 0.7776 - val_accuracy: 0.8722\n",
      "Epoch 14/15\n",
      "782/782 [==============================] - 55s 70ms/step - loss: 0.7577 - accuracy: 0.8810 - val_loss: 0.7794 - val_accuracy: 0.8737\n",
      "Epoch 15/15\n",
      "782/782 [==============================] - 50s 63ms/step - loss: 0.7480 - accuracy: 0.8830 - val_loss: 0.7664 - val_accuracy: 0.8706\n"
     ]
    },
    {
     "data": {
      "text/plain": [
       "<keras.callbacks.History at 0x243890b4fa0>"
      ]
     },
     "execution_count": 25,
     "metadata": {},
     "output_type": "execute_result"
    }
   ],
   "source": [
    "# Fit model to training data\n",
    "# model.fit(X_train_count_vectorized.to_numpy(), y_train_enc, epochs=15)\n",
    "train_history = model.fit(X_train_count_vectorized.to_numpy(), y_train_enc, \n",
    "                          validation_data=(X_test_count_vectorized.to_numpy(), y_test_enc), \n",
    "                          epochs=15)\n",
    "train_history"
   ]
  },
  {
   "cell_type": "code",
   "execution_count": 26,
   "id": "8d387ce5",
   "metadata": {},
   "outputs": [],
   "source": [
    "# Evaluate model performance on training data\n",
    "# model.evaluate(X_test_count_vectorized.to_numpy(), y_test_enc)"
   ]
  },
  {
   "cell_type": "code",
   "execution_count": 35,
   "id": "5ac69eca",
   "metadata": {},
   "outputs": [
    {
     "data": {
      "text/plain": [
       "<matplotlib.legend.Legend at 0x24393362a10>"
      ]
     },
     "execution_count": 35,
     "metadata": {},
     "output_type": "execute_result"
    },
    {
     "data": {
      "image/png": "[encoded data removed]",
      "text/plain": [
       "<Figure size 1600x800 with 1 Axes>"
      ]
     },
     "metadata": {},
     "output_type": "display_data"
    }
   ],
   "source": [
    "# Plot training accuracy vs testing accuracy of model\n",
    "plt.figure(figsize=(8, 4), dpi=200)\n",
    "with sns.axes_style('darkgrid'):\n",
    "  ax1 = sns.lineplot(train_history.history['accuracy'], label='Training Accuracy')\n",
    "  ax2 = sns.lineplot(train_history.history['val_accuracy'], label='Testing Accuracy')\n",
    "plt.title('Neural Network Model for Sentiment Analysis of IMDB Movie Reviews - Training Accuracy Score vs Testing Accuracy Score')\n",
    "plt.xlabel('Number of Epochs') # x-axis label\n",
    "plt.ylabel('Accuracy Score (%)') # y-axis label\n",
    "plt.legend() # Add legend"
   ]
  }
 ],
 "metadata": {
  "kernelspec": {
   "display_name": "Python 3 (ipykernel)",
   "language": "python",
   "name": "python3"
  },
  "language_info": {
   "codemirror_mode": {
    "name": "ipython",
    "version": 3
   },
   "file_extension": ".py",
   "mimetype": "text/x-python",
   "name": "python",
   "nbconvert_exporter": "python",
   "pygments_lexer": "ipython3",
   "version": "3.10.9"
  }
 },
 "nbformat": 4,
 "nbformat_minor": 5
}
